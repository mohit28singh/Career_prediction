{
 "cells": [
  {
   "cell_type": "code",
   "execution_count": 1,
   "id": "dec11d31",
   "metadata": {},
   "outputs": [
    {
     "name": "stdout",
     "output_type": "stream",
     "text": [
      "[[9 1 1 ... 1 1 1]\n",
      " [9 2 1 ... 1 1 1]\n",
      " [9 3 1 ... 1 1 1]\n",
      " ...\n",
      " [1 1 1 ... 6 6 9]\n",
      " [1 1 1 ... 7 7 9]\n",
      " [1 1 1 ... 7 5 9]]\n",
      "hi\n",
      "['Database Administrator' 'Database Administrator'\n",
      " 'Database Administrator' ... 'Graphics Designer' 'Graphics Designer'\n",
      " 'Graphics Designer']\n",
      "X_train [[6 6 6 ... 6 6 6]\n",
      " [2 2 9 ... 2 2 2]\n",
      " [3 3 3 ... 3 3 9]\n",
      " ...\n",
      " [3 3 3 ... 3 3 3]\n",
      " [1 1 1 ... 1 1 1]\n",
      " [2 9 2 ... 2 6 6]]\n",
      "y_train ['Project Manager' 'Application Support Engineer' 'Graphics Designer' ...\n",
      " 'Software Developer' 'AI ML Specialist' 'Hardware Engineer']\n"
     ]
    },
    {
     "name": "stderr",
     "output_type": "stream",
     "text": [
      "c:\\users\\mohit\\appdata\\local\\programs\\python\\python39\\lib\\site-packages\\sklearn\\neighbors\\_classification.py:211: FutureWarning: Unlike other reduction functions (e.g. `skew`, `kurtosis`), the default behavior of `mode` typically preserves the axis it acts along. In SciPy 1.11.0, this behavior will change: the default value of `keepdims` will become False, the `axis` over which the statistic is taken will be eliminated, and the value None will no longer be accepted. Set `keepdims` to True or False to avoid this warning.\n",
      "  mode, _ = stats.mode(_y[neigh_ind, k], axis=1)\n"
     ]
    },
    {
     "name": "stdout",
     "output_type": "stream",
     "text": [
      "y_pred ['Software Tester' 'Hardware Engineer' 'Customer Service Executive' ...\n",
      " 'Business Analyst' 'Technical Writer' 'API Integration Specialist']\n",
      "Accuracy= 97.13144517066085\n",
      "test file created\n"
     ]
    }
   ],
   "source": [
    "import pandas as pd\n",
    "import numpy as np\n",
    "import pickle\n",
    "career = pd.read_csv('dataset9000.data', header = None)\n",
    "#np.dtype('float64')\n",
    "\n",
    "X = np.array(career.iloc[:, 0:17]) #X is skills\n",
    "print(X)\n",
    "y = np.array(career.iloc[:, 17]) #Y is Roles\n",
    "print(\"hi\")\n",
    "print(y) \n",
    "\n",
    "##  attribute to return the column labels of the given Dataframe\n",
    "career.columns = [\"Database Fundamentals\",\"Computer Architecture\",\"Distributed Computing Systems\",\n",
    "\"Cyber Security\",\"Networking\",\"Development\",\"Programming Skills\",\"Project Management\",\n",
    "\"Computer Forensics Fundamentals\",\"Technical Communication\",\"AI ML\",\"Software Engineering\",\"Business Analysis\",\n",
    "\"Communication skills\",\"Data Science\",\"Troubleshooting skills\",\"Graphics Designing\",\"Roles\"]\n",
    "\n",
    "career.dropna(how ='all', inplace = True)\n",
    "#print(\"career.dropna(how ='all', inplace = True)\",career.dropna(how ='all', inplace = True))\n",
    "career.head()\n",
    "## splitting the data into training and test sets \n",
    "from sklearn.model_selection import train_test_split \n",
    "X_train, X_test, y_train, y_test = train_test_split(X, y,test_size = 0.3, random_state = 524)\n",
    "from sklearn.neighbors import KNeighborsClassifier\n",
    "from sklearn import metrics\n",
    "scores = {}\n",
    "knn = KNeighborsClassifier(n_neighbors=5)\n",
    "\n",
    "knn.fit(X_train, y_train)\n",
    "print('X_train',X_train)\n",
    "print('y_train',y_train)\n",
    "y_pred = knn.predict(X_test)\n",
    "print('y_pred',y_pred)\n",
    "scores[5] = metrics.accuracy_score(y_test, y_pred)\n",
    "print('Accuracy=',scores[5]*100)\n",
    "\n",
    "pickle.dump(knn, open('careerlast.pkl','wb'))\n",
    "print('test file created')\n",
    "\n",
    "\n"
   ]
  },
  {
   "cell_type": "code",
   "execution_count": null,
   "id": "8d2be5ba",
   "metadata": {},
   "outputs": [],
   "source": []
  }
 ],
 "metadata": {
  "kernelspec": {
   "display_name": "Python 3 (ipykernel)",
   "language": "python",
   "name": "python3"
  },
  "language_info": {
   "codemirror_mode": {
    "name": "ipython",
    "version": 3
   },
   "file_extension": ".py",
   "mimetype": "text/x-python",
   "name": "python",
   "nbconvert_exporter": "python",
   "pygments_lexer": "ipython3",
   "version": "3.9.5"
  }
 },
 "nbformat": 4,
 "nbformat_minor": 5
}
